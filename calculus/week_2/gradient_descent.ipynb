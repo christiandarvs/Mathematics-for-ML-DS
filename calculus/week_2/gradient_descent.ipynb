{
 "cells": [
  {
   "cell_type": "markdown",
   "metadata": {},
   "source": [
    "### Gradient Descent"
   ]
  },
  {
   "cell_type": "code",
   "execution_count": 7,
   "metadata": {},
   "outputs": [
    {
     "name": "stdout",
     "output_type": "stream",
     "text": [
      "You selected: N/A\n"
     ]
    }
   ],
   "source": [
    "def menu():\n",
    "    print(\"Database System\")\n",
    "    print(\"1. Add\")\n",
    "    print(\"2. Update\")\n",
    "    print(\"3. Display\")\n",
    "    print(\"4. Delete\")\n",
    "    print(\"5. Exit\")\n",
    "\n",
    "\n",
    "choice = int(input(\"Enter your choice from the menu: \"))\n",
    "match choice:\n",
    "    case 1:\n",
    "        print(\"You selected: Add\")\n",
    "    case 2:\n",
    "        print(\"You selected: Update\")\n",
    "    case 3:\n",
    "        print(\"You selected: Display\")\n",
    "    case 4:\n",
    "        print(\"You selected: Delete\")\n",
    "    case 5:\n",
    "        print(\"You selected: Exit\")\n",
    "    case other:\n",
    "        print(\"You selected: N/A\")"
   ]
  }
 ],
 "metadata": {
  "kernelspec": {
   "display_name": "base",
   "language": "python",
   "name": "python3"
  },
  "language_info": {
   "codemirror_mode": {
    "name": "ipython",
    "version": 3
   },
   "file_extension": ".py",
   "mimetype": "text/x-python",
   "name": "python",
   "nbconvert_exporter": "python",
   "pygments_lexer": "ipython3",
   "version": "3.11.5"
  }
 },
 "nbformat": 4,
 "nbformat_minor": 2
}
