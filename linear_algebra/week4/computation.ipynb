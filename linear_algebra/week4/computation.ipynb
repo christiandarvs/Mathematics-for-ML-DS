{
 "cells": [
  {
   "cell_type": "code",
   "execution_count": 3,
   "metadata": {},
   "outputs": [
    {
     "name": "stdout",
     "output_type": "stream",
     "text": [
      "2\n",
      "1\n"
     ]
    }
   ],
   "source": [
    "import numpy as np\n",
    "\n",
    "a = np.array([[1, 1],\n",
    "              [1, 2]])\n",
    "\n",
    "b = np.array([[1, 1],\n",
    "              [2, 2]])\n",
    "\n",
    "a_rank = np.linalg.matrix_rank(a)\n",
    "b_rank = np.linalg.matrix_rank(b)\n",
    "\n",
    "print(a_rank)\n",
    "print(b_rank)"
   ]
  }
 ],
 "metadata": {
  "kernelspec": {
   "display_name": "base",
   "language": "python",
   "name": "python3"
  },
  "language_info": {
   "codemirror_mode": {
    "name": "ipython",
    "version": 3
   },
   "file_extension": ".py",
   "mimetype": "text/x-python",
   "name": "python",
   "nbconvert_exporter": "python",
   "pygments_lexer": "ipython3",
   "version": "3.11.4"
  }
 },
 "nbformat": 4,
 "nbformat_minor": 2
}
